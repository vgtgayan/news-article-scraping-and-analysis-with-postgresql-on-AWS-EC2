{
 "cells": [
  {
   "cell_type": "code",
   "execution_count": 1,
   "outputs": [],
   "source": [
    "# Connecting postgreSQL to Python'\n",
    "import psycopg2\n",
    "from db_config import config"
   ],
   "metadata": {
    "collapsed": false,
    "pycharm": {
     "name": "#%%\n"
    }
   }
  },
  {
   "cell_type": "markdown",
   "source": [
    "### Open db connection"
   ],
   "metadata": {
    "collapsed": false,
    "pycharm": {
     "name": "#%% md\n"
    }
   }
  },
  {
   "cell_type": "code",
   "execution_count": 24,
   "outputs": [],
   "source": [
    "def open_db_connection():\n",
    "    connection = None\n",
    "    try:\n",
    "        params = config(filename=\"db.ini\")\n",
    "        print('Connecting to the postgreSQL database ...')\n",
    "        connection = psycopg2.connect(**params)\n",
    "\n",
    "        # create a cursor\n",
    "        crsr = connection.cursor()\n",
    "        print('PostgreSQL database version: ')\n",
    "        crsr.execute('SELECT version()')\n",
    "        db_version = crsr.fetchone()\n",
    "        print(db_version)\n",
    "        return crsr, connection\n",
    "    except(Exception, psycopg2.DatabaseError) as error:\n",
    "        print(error)\n",
    "        if connection is not None:\n",
    "            connection.close()\n",
    "            print('Database connection terminated.')"
   ],
   "metadata": {
    "collapsed": false,
    "pycharm": {
     "name": "#%%\n"
    }
   }
  },
  {
   "cell_type": "code",
   "execution_count": 28,
   "outputs": [
    {
     "name": "stdout",
     "output_type": "stream",
     "text": [
      "Connecting to the postgreSQL database ...\n",
      "PostgreSQL database version: \n",
      "('PostgreSQL 9.2.24 on x86_64-koji-linux-gnu, compiled by gcc (GCC) 7.3.1 20180712 (Red Hat 7.3.1-13), 64-bit',)\n"
     ]
    }
   ],
   "source": [
    "crsr, connection = open_db_connection()"
   ],
   "metadata": {
    "collapsed": false,
    "pycharm": {
     "name": "#%%\n"
    }
   }
  },
  {
   "cell_type": "code",
   "execution_count": 26,
   "outputs": [],
   "source": [
    "def close_db_connection(crsr, connection):\n",
    "    crsr.close()\n",
    "    if connection is not None:\n",
    "        connection.close()\n",
    "        print('Database connection terminated.')"
   ],
   "metadata": {
    "collapsed": false,
    "pycharm": {
     "name": "#%%\n"
    }
   }
  },
  {
   "cell_type": "code",
   "execution_count": 27,
   "outputs": [
    {
     "name": "stdout",
     "output_type": "stream",
     "text": [
      "Database connection terminated.\n"
     ]
    }
   ],
   "source": [
    "close_db_connection(crsr, connection)"
   ],
   "metadata": {
    "collapsed": false,
    "pycharm": {
     "name": "#%%\n"
    }
   }
  },
  {
   "cell_type": "markdown",
   "source": [
    "### DB Query"
   ],
   "metadata": {
    "collapsed": false,
    "pycharm": {
     "name": "#%% md\n"
    }
   }
  },
  {
   "cell_type": "code",
   "execution_count": 19,
   "outputs": [
    {
     "name": "stdout",
     "output_type": "stream",
     "text": [
      "Article count by date \n",
      "\n",
      "[(datetime.date(2022, 7, 29), 4), (datetime.date(2022, 7, 27), 4), (datetime.date(2022, 7, 21), 3), (datetime.date(2015, 11, 25), 3), (datetime.date(2022, 7, 28), 3), (datetime.date(2021, 1, 9), 2), (datetime.date(2022, 7, 15), 2), (datetime.date(2021, 3, 5), 2), (datetime.date(2022, 3, 4), 2), (datetime.date(2022, 6, 2), 2), (datetime.date(2021, 11, 12), 2), (datetime.date(2021, 12, 9), 2), (datetime.date(2022, 5, 6), 2), (datetime.date(2015, 11, 29), 2), (datetime.date(2022, 5, 10), 2), (datetime.date(2019, 2, 4), 1), (datetime.date(2019, 7, 11), 1), (datetime.date(2016, 12, 1), 1), (datetime.date(2016, 4, 13), 1), (datetime.date(2018, 2, 12), 1), (datetime.date(2017, 3, 22), 1), (datetime.date(2018, 11, 11), 1), (datetime.date(2022, 6, 30), 1), (datetime.date(2021, 4, 23), 1), (datetime.date(2021, 2, 10), 1), (datetime.date(2015, 12, 7), 1), (datetime.date(2021, 1, 20), 1), (datetime.date(2022, 6, 23), 1), (datetime.date(2015, 5, 20), 1), (datetime.date(2015, 10, 16), 1), (datetime.date(2022, 7, 31), 1), (datetime.date(2021, 10, 22), 1), (datetime.date(2021, 7, 23), 1), (datetime.date(2018, 9, 4), 1), (datetime.date(2022, 3, 1), 1), (datetime.date(2018, 3, 28), 1), (datetime.date(2022, 7, 19), 1), (datetime.date(2015, 11, 30), 1), (datetime.date(2021, 4, 21), 1), (datetime.date(2022, 3, 15), 1), (datetime.date(2018, 8, 9), 1), (datetime.date(2021, 8, 6), 1), (datetime.date(2022, 3, 5), 1), (datetime.date(2022, 7, 1), 1), (datetime.date(2022, 7, 8), 1), (datetime.date(2017, 8, 4), 1), (datetime.date(2018, 3, 16), 1), (datetime.date(2015, 11, 20), 1), (datetime.date(2018, 2, 21), 1), (datetime.date(2021, 6, 17), 1), (datetime.date(2021, 7, 1), 1), (datetime.date(2020, 9, 1), 1), (datetime.date(2018, 12, 6), 1), (datetime.date(2018, 10, 16), 1), (datetime.date(2017, 4, 30), 1), (datetime.date(2018, 6, 29), 1), (datetime.date(2022, 6, 29), 1), (datetime.date(2022, 6, 1), 1), (datetime.date(2015, 12, 14), 1), (datetime.date(2020, 7, 16), 1), (datetime.date(2018, 9, 27), 1), (datetime.date(2015, 5, 22), 1), (datetime.date(2022, 1, 24), 1), (datetime.date(2018, 11, 9), 1), (datetime.date(2022, 8, 1), 1), (datetime.date(2022, 6, 20), 1), (datetime.date(2015, 5, 12), 1), (datetime.date(2015, 12, 8), 1), (datetime.date(2021, 1, 7), 1), (datetime.date(2015, 1, 3), 1), (datetime.date(2015, 6, 30), 1), (datetime.date(2021, 1, 12), 1), (datetime.date(2022, 7, 9), 1), (datetime.date(2020, 9, 20), 1), (datetime.date(2021, 10, 4), 1), (datetime.date(2022, 6, 16), 1), (datetime.date(2021, 11, 3), 1), (datetime.date(2019, 1, 21), 1), (datetime.date(2018, 10, 12), 1), (datetime.date(2022, 7, 25), 1), (datetime.date(2021, 1, 15), 1), (datetime.date(2022, 7, 20), 1), (datetime.date(2015, 4, 24), 1), (datetime.date(2022, 6, 24), 1), (datetime.date(2021, 7, 9), 1), (datetime.date(2022, 2, 25), 1), (datetime.date(2021, 7, 19), 1), (datetime.date(2018, 7, 20), 1), (datetime.date(2016, 12, 28), 1), (datetime.date(2016, 9, 16), 1), (datetime.date(2018, 11, 6), 1), (datetime.date(2021, 2, 5), 1), (datetime.date(2021, 6, 27), 1), (datetime.date(2021, 7, 14), 1), (datetime.date(2022, 2, 26), 1), (datetime.date(2015, 12, 9), 1), (datetime.date(2021, 5, 16), 1), (datetime.date(2017, 10, 13), 1), (datetime.date(2022, 5, 25), 1), (datetime.date(2015, 5, 4), 1), (datetime.date(2022, 4, 14), 1), (datetime.date(2018, 5, 24), 1), (datetime.date(2018, 10, 18), 1), (datetime.date(2022, 4, 22), 1), (datetime.date(2021, 7, 3), 1), (datetime.date(2022, 2, 17), 1), (datetime.date(2018, 10, 29), 1), (datetime.date(2017, 10, 14), 1), (datetime.date(2020, 12, 1), 1), (datetime.date(2017, 2, 10), 1), (datetime.date(2021, 9, 13), 1), (datetime.date(2022, 6, 7), 1), (datetime.date(2022, 6, 17), 1), (datetime.date(2018, 3, 9), 1), (datetime.date(2018, 8, 10), 1), (datetime.date(2022, 4, 28), 1), (datetime.date(2015, 7, 17), 1), (datetime.date(2018, 8, 23), 1), (datetime.date(2021, 12, 16), 1), (datetime.date(2022, 3, 25), 1), (datetime.date(2022, 7, 12), 1), (datetime.date(2022, 3, 7), 1), (datetime.date(2015, 9, 11), 1), (datetime.date(2017, 12, 19), 1), (datetime.date(2016, 9, 6), 1), (datetime.date(2020, 4, 3), 1), (datetime.date(2016, 5, 19), 1), (datetime.date(2022, 5, 19), 1), (datetime.date(2016, 11, 15), 1), (datetime.date(2018, 4, 21), 1), (datetime.date(2018, 11, 5), 1), (datetime.date(2016, 9, 9), 1), (datetime.date(2022, 4, 13), 1), (datetime.date(2021, 6, 30), 1), (datetime.date(2022, 6, 21), 1), (datetime.date(2022, 4, 4), 1), (datetime.date(2022, 3, 16), 1), (datetime.date(2018, 2, 9), 1), (datetime.date(2022, 5, 12), 1), (datetime.date(2018, 2, 22), 1), (datetime.date(2018, 4, 7), 1), (datetime.date(2019, 1, 12), 1), (datetime.date(2022, 7, 22), 1), (datetime.date(2017, 4, 14), 1), (datetime.date(2018, 9, 29), 1), (datetime.date(2022, 6, 9), 1), (datetime.date(2020, 9, 7), 1), (datetime.date(2022, 4, 29), 1), (datetime.date(2022, 2, 11), 1), (datetime.date(2016, 3, 18), 1), (datetime.date(2021, 6, 14), 1), (datetime.date(2018, 1, 13), 1), (datetime.date(2021, 9, 2), 1), (datetime.date(2022, 6, 19), 1), (datetime.date(2018, 6, 11), 1), (datetime.date(2022, 8, 2), 1), (datetime.date(2017, 2, 5), 1), (datetime.date(2019, 7, 10), 1), (datetime.date(2022, 7, 26), 1), (datetime.date(2016, 9, 8), 1), (datetime.date(2015, 12, 3), 1), (datetime.date(2022, 4, 19), 1), (datetime.date(2017, 3, 31), 1), (datetime.date(2022, 7, 6), 1), (datetime.date(2021, 2, 18), 1), (datetime.date(2015, 7, 27), 1)]\n",
      "Article on dates 2022, 7, 29 and 2022, 7, 27 \n",
      "\n",
      "[('(\"\\'Paper Girls\\' wants to be another \\'Stranger Things\\' but doesn\\'t quite deliver\",https://edition.cnn.com/2022/07/29/entertainment/paper-girls-review/index.html,Entertainment,Binge)',), ('(\"Mayim Bialik and Ken Jennings named permanent co-hosts of \\'Jeopardy!\"\"\\'\",https://edition.cnn.com/2022/07/27/entertainment/mayim-bialik-ken-jennings-jeopardy/index.html,Entertainment,Stars)',), ('(\"Talking dog parenting with Chris Evans\",https://edition.cnn.com/2022/07/27/entertainment/chris-evans-dogs/index.html,Entertainment,Stars)',), ('(\"How to take advantage of rising interest rates\",https://edition.cnn.com/2022/07/27/success/take-advantage-of-rising-rates-late-july-feseries/index.html,Business,Success)',), ('(\"Russia is plundering gold in Sudan to boost Putin\\'s war effort in Ukraine\",https://edition.cnn.com/2022/07/29/africa/sudan-russia-gold-investigation-cmd-intl/index.html,World,Africa)',), ('(\"Opinion: The types of jobs to look for (and avoid) during a recession\",https://edition.cnn.com/2022/07/29/perspectives/jobs-recession-hiring-gdp/index.html,Business,Perspectives)',), ('(\"Scientist at forefront of China\\'s early investigations into Covid-19 steps down\",https://edition.cnn.com/2022/07/27/china/china-cdc-director-george-gao-fu-covid-intl-hnk-mic/index.html,World,China)',), ('(\"Beyoncé\\'s \\'Renaissance\\' release: What you need to know\",https://edition.cnn.com/2022/07/29/entertainment/beyonce-renaissance/index.html,Entertainment,Stars)',)]\n"
     ]
    }
   ],
   "source": [
    "# Query articles by posted date\n",
    "sql = '''\n",
    "    SELECT date(posted_date), count(posted_date) as total_articles\n",
    "    FROM cnn_news.article\n",
    "    GROUP BY date(posted_date)\n",
    "    ORDER BY count(posted_date) DESC\n",
    "    ;\n",
    "'''\n",
    "crsr.execute(sql)\n",
    "print(\"Article count by date \\n\")\n",
    "print(crsr.fetchall())\n",
    "\n",
    "# Query for articles on date 2022, 7, 29 and 2022, 7, 27\n",
    "sql = '''\n",
    "    SELECT (title, url, category, sub_category)\n",
    "    FROM cnn_news.article\n",
    "    WHERE posted_date = '2022, 7, 29' OR posted_date = '2022, 7, 27'\n",
    "    ;\n",
    "'''\n",
    "crsr.execute(sql)\n",
    "print(\"Article on dates 2022, 7, 29 and 2022, 7, 27 \\n\")\n",
    "print(crsr.fetchall())"
   ],
   "metadata": {
    "collapsed": false,
    "pycharm": {
     "name": "#%%\n"
    }
   }
  },
  {
   "cell_type": "code",
   "execution_count": null,
   "outputs": [],
   "source": [],
   "metadata": {
    "collapsed": false,
    "pycharm": {
     "name": "#%%\n"
    }
   }
  },
  {
   "cell_type": "markdown",
   "source": [
    "### Analysis\n",
    "Maximum no: of news articles of 4 were posted on 2022, 7, 29 and 2022, 7, 27.\n",
    "Out of those articles most were on \"Entertainment category\" while others were on \"World\" and \"Business\" categories."
   ],
   "metadata": {
    "collapsed": false,
    "pycharm": {
     "name": "#%% md\n"
    }
   }
  },
  {
   "cell_type": "code",
   "execution_count": 29,
   "outputs": [
    {
     "name": "stdout",
     "output_type": "stream",
     "text": [
      "Article count by author \n",
      "\n",
      "[('(\"John Blake\",https://edition.cnn.com/profiles/john-blake,32)',), ('(\"John D. Sutter\",https://edition.cnn.com/profiles/john-d-sutter,27)',), ('(\"Casey Tolan\",https://edition.cnn.com/profiles/casey-tolan,21)',), ('(\"CNN Business\",https://edition.cnn.comhttps://www.cnn.com/business,20)',), ('(\"Brian Lowry\",https://edition.cnn.com/profiles/brian-lowry,20)',), ('(\"Jessica Ravitz\",https://edition.cnn.com/profiles/jessica-ravitz,19)',), ('(\"Daniel Burke\",https://edition.cnn.com/profiles/daniel-burke,14)',), ('(\"Rob Kuznia\",https://edition.cnn.com/profiles/rob-kuznia,9)',), ('(\"Jeanne Sahadi\",https://edition.cnn.com/profiles/jeanne-sahadi,9)',), ('(\"Anna Bahney\",https://edition.cnn.com/profiles/anna-bahney,7)',), ('(\"Moni Basu\",https://edition.cnn.com/profiles/moni-basu-profile,7)',), ('(\"Kathryn Vasel\",https://edition.cnn.com/profiles/kathryn-vasel,6)',), ('(\"Blake Ellis\",https://edition.cnn.com/profiles/blake-ellis,6)',), ('(\"Wayne Drash\",https://edition.cnn.com/profiles/wayne-drash,6)',), ('(\"Curt Devine\",https://edition.cnn.com/profiles/curt-devine,6)',), ('(\"Bob Ortega\",https://edition.cnn.com/profiles/bob-ortega,5)',), ('(\"Lauren Lee\",https://edition.cnn.com/profiles/lauren-lee-johnson,5)',), ('(\"Catherine E. Shoichet\",https://edition.cnn.com/profiles/catherine-shoichet-profile,5)',), ('(\"Nell Lewis\",https://edition.cnn.comhttps://edition.cnn.com/profiles/nell-lewis,4)',), ('(\"Majlie de Puy Kamp\",https://edition.cnn.com/profiles/majlie-de-puy-kamp,3)',), ('(\"Matt Egan\",https://edition.cnn.com/profiles/matt-egan,3)',), ('(\"Nimi Princewill\",https://edition.cnn.com/profiles/nimi-princewill,3)',), ('(\"Mariano Castillo\",https://edition.cnn.com/profiles/mariano-castillo,3)',), ('(\"Stephen Collinson\",https://edition.cnn.com/profiles/stephen-collinson,2)',), ('(\"Harmeet Kaur\",https://edition.cnn.com/profiles/harmeet-kaur,2)',), ('(\"Chad Myers\",https://edition.cnn.com/profiles/chad-myers-profile,2)',), ('(\"Stephanie Busari\",https://edition.cnn.com/profiles/stephanie-busari,2)',), ('(\"Shannon Liao\",https://edition.cnn.com/profiles/shannon-liao,2)',), ('(\"Ann O\\'Neill\",https://edition.cnn.com/profiles/ann-oneill,2)',), ('(\"Drew Kann\",https://edition.cnn.com/profiles/drew-kann,2)',), ('(\"Sandra Gonzalez\",https://edition.cnn.com/profiles/sandra-gonzalez,2)',), ('(\"David Axelrod\",https://edition.cnn.com/profiles/david-axelrod,2)',), ('(\"Lisa Respers France\",https://edition.cnn.com/profiles/lisa-france,2)',), ('(\"Jill Martin\",https://edition.cnn.com/profiles/jill-martin,2)',), ('(\"Jessie Yeung\",https://edition.cnn.com/profiles/jessie-yeung,1)',), ('(\"Todd Leopold\",https://edition.cnn.com/profiles/todd-leopold-profile,1)',), ('(\"Rachel Ramirez\",https://edition.cnn.com/profiles/rachel-ramirez,1)',), ('(\"Nima Elbagir\",https://edition.cnn.comhttp://cnn.com/profiles/nima-elbagir,1)',), ('(\"Holly Yan\",https://edition.cnn.com/profiles/holly-yan,1)',), ('(\"Gregory Krieg\",https://edition.cnn.com/profiles/gregory-krieg,1)',), ('(\"Hanna Ziady\",https://edition.cnn.com/profiles/hanna-ziady,1)',), ('(\"Randi Kaye\",https://edition.cnn.com/profiles/randi-kaye-profile,1)',), ('(\"Natasha Chen\",https://edition.cnn.com/profiles/natasha-chen,1)',), ('(\"Larry Madowo\",https://edition.cnn.com/profiles/larry-madowo,1)',), ('(\"Fredreka Schouten\",https://edition.cnn.com/profiles/fredreka-schouten,1)',), ('(\"Travis Caldwell\",https://edition.cnn.com/profiles/travis-caldwell,1)',), ('(\"AJ Willingham\",https://edition.cnn.com/profiles/aj-willingham-profile,1)',), ('(\"Coy Wire\",https://edition.cnn.com/profiles/coy-wire-profile,1)',), ('(\"Bernadette Tuazon\",https://edition.cnn.comhttps://www.cnn.com/profiles/bernadette-tuazon,1)',), ('(\"Simone McCarthy\",https://edition.cnn.com/profiles/simone-mccarthy,1)',), ('(\"Isabelle Chapman\",https://edition.cnn.com/profiles/isabelle-chapman,1)',), ('(\"Faith Karimi\",https://edition.cnn.com/profiles/faith-karimi,1)',), ('(\"Evan Perez\",https://edition.cnn.com/profiles/evan-perez-profile,1)',), ('(\" Aisha Salaudeen\",https://edition.cnn.comhttps://edition.cnn.com/profiles/aisha-salaudeen,1)',)]\n",
      "Article count by author John Blake\n",
      "\n",
      "[('(\"Analysis: The most shocking part of the racist yearbook photo is what critics leave out\",https://edition.cnn.com/2019/02/03/us/racist-photo-northam-blake-analysis/index.html,More,Longform)',), ('(\"A World War II hero returns to Germany to solve a mystery -- and meet an enemy\",https://edition.cnn.com/2018/11/10/us/ww2-reunion-us-german-veterans/index.html,More,Longform)',), ('(\"\\'I\\'m not the Obamacare kid anymore\\'\",https://edition.cnn.com/2016/03/18/health/obamacare-kid-transgender/index.html,More,Longform)',), ('(\"The blurring of racial lines won\\'t save America. Why \\'racial fluidity\\' is a con\",https://edition.cnn.com/2018/03/02/us/racial-fluidity/index.html,More,Longform)',), ('(\"When the dreaded \\'other\\' is an angry white man\",https://edition.cnn.com/2018/11/05/us/angry-white-man-john-blake/index.html,More,Longform)',), ('(\"A new Supreme Court is poised to take a chunk out of MLK\\'s legacy\",https://edition.cnn.com/2019/01/20/us/mlk-legacy-supreme-court/index.html,More,Longform)',), ('(\"When Americans tried to breed a better race: How a genetic fitness \\'crusade\\' marches on\",https://edition.cnn.com/2018/10/16/us/eugenics-craze-america-pbs/index.html,More,Longform)',), ('(\"When exorcists need help, they call him\",https://edition.cnn.com/2017/08/04/health/exorcism-doctor/index.html,More,Longform)',), ('(\"How 911 calls on blacks are a new twist on something old: white flight\",https://edition.cnn.com/2018/08/10/us/white-flight-911-calls/index.html,More,Longform)',), ('(\"\\'Lord of the Flies\\' comes to Baltimore\",https://edition.cnn.com/2015/05/02/us/lord-of-the-flies-baltimore/index.html,More,Longform)',), ('(\"How Trump\\'s victory turns into another \\'Lost Cause\\'\",https://edition.cnn.com/2016/12/28/us/lost-cause-trump/index.html,More,Longform)',), ('(\"Beyoncé and Lamar show what it means to be \\'unapologetically black\\' \",https://edition.cnn.com/2018/04/21/us/beyonce-lamar-unapologetically-black/index.html,More,Longform)',), ('(\"Where Billy Graham \\'missed the mark\\'\",https://edition.cnn.com/2018/02/22/us/billy-graham-mlk-civil-rights/index.html,More,Longform)',), ('(\"The polite way to call someone a racist\",https://edition.cnn.com/2018/09/29/us/polite-racism/index.html,More,Longform)',), ('(\"Analysis: It\\'s time to give some bigots a break\",https://edition.cnn.com/2019/01/12/us/meteorologist-racism-ritual-blake-analysis/index.html,More,Longform)',), ('(\"The first time I discovered I was white\",https://edition.cnn.com/2017/02/10/us/first-time-white/index.html,More,Longform)',), ('(\"Analysis: The question now facing Democrats: How to wake up the \\'too woke to vote\\' crowd\",https://edition.cnn.com/2018/11/09/us/georgia-florida-governors-races-analysis/index.html,More,Longform)',), ('(\"This is how the NRA loses\",https://edition.cnn.com/2015/10/15/politics/defy-gun-lobby/index.html,More,Longform)',), ('(\"The Bishop Eddie Long I knew\",https://edition.cnn.com/2017/02/03/us/bishop-eddie-long-i-knew/index.html,More,Longform)',), ('(\"Why some Americans say Trump can\\'t stop what Obama started\",https://edition.cnn.com/2018/08/09/us/obama-ten-years-later/index.html,More,Longform)',)]\n"
     ]
    }
   ],
   "source": [
    "# Query articles by author\n",
    "sql = '''\n",
    "    SELECT (name, url, article_count)\n",
    "    FROM cnn_news.author\n",
    "    ORDER BY article_count DESC\n",
    "    ;\n",
    "'''\n",
    "crsr.execute(sql)\n",
    "print(\"Article count by author \\n\")\n",
    "print(crsr.fetchall())\n",
    "\n",
    "# Query articles of \"John Blake\"\n",
    "sql = '''\n",
    "    SELECT (title, url, category, sub_category)\n",
    "    FROM cnn_news.article\n",
    "    WHERE author = 'John Blake'\n",
    "    ;\n",
    "'''\n",
    "crsr.execute(sql)\n",
    "print(\"Article count by author John Blake\\n\")\n",
    "print(crsr.fetchall())"
   ],
   "metadata": {
    "collapsed": false,
    "pycharm": {
     "name": "#%%\n"
    }
   }
  },
  {
   "cell_type": "markdown",
   "source": [
    "### Notes:\n",
    "John Blake is the author with maximum no: of posted articles (32 articles)"
   ],
   "metadata": {
    "collapsed": false,
    "pycharm": {
     "name": "#%% md\n"
    }
   }
  },
  {
   "cell_type": "code",
   "execution_count": 30,
   "outputs": [
    {
     "name": "stdout",
     "output_type": "stream",
     "text": [
      "Article count by category \n",
      "\n",
      "[('(More,Longform,95)',), ('(More,Investigations,57)',), ('(Sports,Olympics,36)',), ('(Features,\"2 Degrees\",28)',), ('(World,Africa,24)',), ('(Business,Perspectives,24)',), ('(Features,\"Impact Your World\",24)',), ('(Business,Success,22)',), ('(Sports,Climbing,14)',), ('(Weather,Climate,13)',), ('(Sports,Motorsport,13)',), ('(Features,\"CNN Heroes\",13)',), ('(Entertainment,Binge,12)',), ('(World,Europe,12)',), ('(More,Photos,11)',), ('(Sports,Esports,11)',), ('(Features,\"Inside Africa\",10)',), ('(World,Asia,9)',), ('(Entertainment,Screen,8)',), ('(Sports,Golf,8)',), ('(Entertainment,Culture,6)',), ('(Videos,CNNVR,5)',), ('(Features,\"All Features\",4)',), ('(Tech,\"Foreseeable Future\",4)',), ('(Entertainment,Stars,4)',), ('(World,China,3)',), ('(Sports,Football,3)',), ('(Videos,\"CNN Films\",2)',), ('(World,\"Middle East\",1)',)]\n"
     ]
    }
   ],
   "source": [
    "# Query articles by category\n",
    "sql = '''\n",
    "    SELECT (category, sub_category, articles_count)\n",
    "    FROM cnn_news.category\n",
    "    ORDER BY articles_count DESC\n",
    "    ;\n",
    "'''\n",
    "crsr.execute(sql)\n",
    "print(\"Article count by category \\n\")\n",
    "print(crsr.fetchall())"
   ],
   "metadata": {
    "collapsed": false,
    "pycharm": {
     "name": "#%%\n"
    }
   }
  },
  {
   "cell_type": "code",
   "execution_count": null,
   "outputs": [],
   "source": [
    "# Query articles by category\n",
    "sql = '''\n",
    "    SELECT (category, sub_category, articles_count)\n",
    "    FROM cnn_news.category\n",
    "    ORDER BY articles_count DESC\n",
    "    ;\n",
    "'''\n",
    "crsr.execute(sql)\n",
    "print(\"Article count by category \\n\")\n",
    "print(crsr.fetchall())"
   ],
   "metadata": {
    "collapsed": false,
    "pycharm": {
     "name": "#%%\n"
    }
   }
  },
  {
   "cell_type": "markdown",
   "source": [
    "### Notes:\n",
    "Most no: of articles(95) were posted under \"Longform\" category.\n",
    "The second highest was(57) \"Investigations\" category.\n",
    "Other frequent articles were under categories like \"Sports\", \"Features\", \"World\" etc."
   ],
   "metadata": {
    "collapsed": false,
    "pycharm": {
     "name": "#%% md\n"
    }
   }
  },
  {
   "cell_type": "markdown",
   "source": [
    "### Close db connection and cursor"
   ],
   "metadata": {
    "collapsed": false,
    "pycharm": {
     "name": "#%% md\n"
    }
   }
  },
  {
   "cell_type": "code",
   "execution_count": 21,
   "outputs": [
    {
     "name": "stdout",
     "output_type": "stream",
     "text": [
      "Database connection terminated.\n"
     ]
    }
   ],
   "source": [
    "crsr.close()\n",
    "if connection is not None:\n",
    "    connection.close()\n",
    "    print('Database connection terminated.')"
   ],
   "metadata": {
    "collapsed": false,
    "pycharm": {
     "name": "#%%\n"
    }
   }
  },
  {
   "cell_type": "code",
   "execution_count": null,
   "outputs": [],
   "source": [],
   "metadata": {
    "collapsed": false,
    "pycharm": {
     "name": "#%%\n"
    }
   }
  }
 ],
 "metadata": {
  "kernelspec": {
   "display_name": "Python 3",
   "language": "python",
   "name": "python3"
  },
  "language_info": {
   "codemirror_mode": {
    "name": "ipython",
    "version": 2
   },
   "file_extension": ".py",
   "mimetype": "text/x-python",
   "name": "python",
   "nbconvert_exporter": "python",
   "pygments_lexer": "ipython2",
   "version": "2.7.6"
  }
 },
 "nbformat": 4,
 "nbformat_minor": 0
}