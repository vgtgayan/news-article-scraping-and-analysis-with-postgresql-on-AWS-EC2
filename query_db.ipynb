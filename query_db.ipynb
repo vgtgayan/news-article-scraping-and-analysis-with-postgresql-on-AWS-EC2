{
 "cells": [
  {
   "cell_type": "code",
   "execution_count": 1,
   "outputs": [],
   "source": [
    "# Connecting postgreSQL to Python'\n",
    "import psycopg2\n",
    "from db_config import config"
   ],
   "metadata": {
    "collapsed": false,
    "pycharm": {
     "name": "#%%\n"
    }
   }
  },
  {
   "cell_type": "markdown",
   "source": [
    "### Open db connection"
   ],
   "metadata": {
    "collapsed": false,
    "pycharm": {
     "name": "#%% md\n"
    }
   }
  },
  {
   "cell_type": "code",
   "execution_count": null,
   "outputs": [],
   "source": [
    "connection = None\n",
    "try:\n",
    "    params = config(filename=\"db.ini\")\n",
    "    print('Connecting to the postgreSQL database ...')\n",
    "    connection = psycopg2.connect(**params)\n",
    "\n",
    "    # create a cursor\n",
    "    crsr = connection.cursor()\n",
    "    print('PostgreSQL database version: ')\n",
    "    crsr.execute('SELECT version()')\n",
    "    db_version = crsr.fetchone()\n",
    "    print(db_version)\n",
    "    # crsr.close()\n",
    "except(Exception, psycopg2.DatabaseError) as error:\n",
    "    print(error)\n",
    "    if connection is not None:\n",
    "        connection.close()\n",
    "        print('Database connection terminated.')"
   ],
   "metadata": {
    "collapsed": false,
    "pycharm": {
     "name": "#%%\n"
    }
   }
  },
  {
   "cell_type": "markdown",
   "source": [
    "### DB Query"
   ],
   "metadata": {
    "collapsed": false,
    "pycharm": {
     "name": "#%% md\n"
    }
   }
  },
  {
   "cell_type": "code",
   "execution_count": null,
   "outputs": [],
   "source": [
    "# Query articles by posted date\n",
    "sql = '''\n",
    "    SELECT date(posted_date), count(posted_date) as total_articles\n",
    "    FROM cnn_news.article\n",
    "    GROUP BY date(posted_date)\n",
    "    ORDER BY count(posted_date) DESC\n",
    "    ;\n",
    "'''\n",
    "crsr.execute(sql)\n",
    "print(\"Article count by date \\n\")\n",
    "print(crsr.fetchall())"
   ],
   "metadata": {
    "collapsed": false,
    "pycharm": {
     "name": "#%%\n"
    }
   }
  },
  {
   "cell_type": "code",
   "execution_count": null,
   "outputs": [],
   "source": [
    "# Query articles by author\n",
    "sql = '''\n",
    "    SELECT (name, url, article_count)\n",
    "    FROM cnn_news.author\n",
    "    ORDER BY article_count DESC\n",
    "    ;\n",
    "'''\n",
    "crsr.execute(sql)\n",
    "print(\"Article count by author \\n\")\n",
    "print(crsr.fetchall())"
   ],
   "metadata": {
    "collapsed": false,
    "pycharm": {
     "name": "#%%\n"
    }
   }
  },
  {
   "cell_type": "code",
   "execution_count": null,
   "outputs": [],
   "source": [
    "# Query articles by category\n",
    "sql = '''\n",
    "    SELECT (category, sub_category, articles_count)\n",
    "    FROM cnn_news.category\n",
    "    ORDER BY article_count DESC\n",
    "    ;\n",
    "'''\n",
    "crsr.execute(sql)\n",
    "print(\"Article count by category \\n\")\n",
    "print(crsr.fetchall())"
   ],
   "metadata": {
    "collapsed": false,
    "pycharm": {
     "name": "#%%\n"
    }
   }
  },
  {
   "cell_type": "code",
   "execution_count": null,
   "outputs": [],
   "source": [],
   "metadata": {
    "collapsed": false,
    "pycharm": {
     "name": "#%%\n"
    }
   }
  },
  {
   "cell_type": "markdown",
   "source": [
    "### Close db connection and cursor"
   ],
   "metadata": {
    "collapsed": false,
    "pycharm": {
     "name": "#%% md\n"
    }
   }
  },
  {
   "cell_type": "code",
   "execution_count": null,
   "outputs": [],
   "source": [
    "crsr.close()\n",
    "if connection is not None:\n",
    "    connection.close()\n",
    "    print('Database connection terminated.')"
   ],
   "metadata": {
    "collapsed": false,
    "pycharm": {
     "name": "#%%\n"
    }
   }
  }
 ],
 "metadata": {
  "kernelspec": {
   "display_name": "Python 3",
   "language": "python",
   "name": "python3"
  },
  "language_info": {
   "codemirror_mode": {
    "name": "ipython",
    "version": 2
   },
   "file_extension": ".py",
   "mimetype": "text/x-python",
   "name": "python",
   "nbconvert_exporter": "python",
   "pygments_lexer": "ipython2",
   "version": "2.7.6"
  }
 },
 "nbformat": 4,
 "nbformat_minor": 0
}